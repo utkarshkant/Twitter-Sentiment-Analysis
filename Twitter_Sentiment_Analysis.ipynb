{
  "nbformat": 4,
  "nbformat_minor": 0,
  "metadata": {
    "colab": {
      "name": "Twitter Sentiment Analysis.ipynb",
      "provenance": [],
      "collapsed_sections": []
    },
    "kernelspec": {
      "name": "python3",
      "display_name": "Python 3"
    }
  },
  "cells": [
    {
      "cell_type": "markdown",
      "metadata": {
        "id": "3Ty_9PgANzij",
        "colab_type": "text"
      },
      "source": [
        "# Twitter Sentiment Analysis\n",
        "\n",
        "### Objective : Build a sentiment analysis program that parses text from tweets fetched from Twitter"
      ]
    },
    {
      "cell_type": "markdown",
      "metadata": {
        "id": "PkH0x6-ZORpU",
        "colab_type": "text"
      },
      "source": [
        "# 1. Import Dependencies"
      ]
    },
    {
      "cell_type": "code",
      "metadata": {
        "id": "Gt2HEDtJOIFC",
        "colab_type": "code",
        "colab": {}
      },
      "source": [
        "# import libraries\n",
        "import tweepy\n",
        "from textblob import TextBlob\n",
        "from wordcloud import WordCloud\n",
        "import pandas as pd\n",
        "import numpy as np\n",
        "import re\n",
        "import matplotlib.pyplot as plt\n",
        "plt.style.use('fivethirtyeight')"
      ],
      "execution_count": 0,
      "outputs": []
    },
    {
      "cell_type": "code",
      "metadata": {
        "id": "MIL6Tg9uOgtg",
        "colab_type": "code",
        "colab": {
          "resources": {
            "http://localhost:8080/nbextensions/google.colab/files.js": {
              "data": "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",
              "ok": true,
              "headers": [
                [
                  "content-type",
                  "application/javascript"
                ]
              ],
              "status": 200,
              "status_text": ""
            }
          },
          "base_uri": "https://localhost:8080/",
          "height": 74
        },
        "outputId": "2c077fe5-ebd4-4616-e303-4723b24b82ed"
      },
      "source": [
        "# import data\n",
        "from google.colab import files\n",
        "uploaded = files.upload()"
      ],
      "execution_count": 3,
      "outputs": [
        {
          "output_type": "display_data",
          "data": {
            "text/html": [
              "\n",
              "     <input type=\"file\" id=\"files-7e495f46-7841-4fa0-b3de-0efccb501682\" name=\"files[]\" multiple disabled />\n",
              "     <output id=\"result-7e495f46-7841-4fa0-b3de-0efccb501682\">\n",
              "      Upload widget is only available when the cell has been executed in the\n",
              "      current browser session. Please rerun this cell to enable.\n",
              "      </output>\n",
              "      <script src=\"/nbextensions/google.colab/files.js\"></script> "
            ],
            "text/plain": [
              "<IPython.core.display.HTML object>"
            ]
          },
          "metadata": {
            "tags": []
          }
        },
        {
          "output_type": "stream",
          "text": [
            "Saving login.csv to login.csv\n"
          ],
          "name": "stdout"
        }
      ]
    },
    {
      "cell_type": "code",
      "metadata": {
        "id": "kvKFjBdLQsJj",
        "colab_type": "code",
        "colab": {}
      },
      "source": [
        "# load twitter authentication credentials\n",
        "log = pd.read_csv('login.csv')"
      ],
      "execution_count": 0,
      "outputs": []
    },
    {
      "cell_type": "markdown",
      "metadata": {
        "id": "k0uMJQBIgaYh",
        "colab_type": "text"
      },
      "source": [
        "# 2. Dataset exploration and Twitter authentication settings"
      ]
    },
    {
      "cell_type": "code",
      "metadata": {
        "id": "7lzSKgZSd6Aq",
        "colab_type": "code",
        "colab": {}
      },
      "source": [
        "# store Twitter API credentials\n",
        "consumerKey = log['key'][0]\n",
        "consumerSecret = log['key'][1]\n",
        "accessToken = log['key'][2]\n",
        "accessTokenSecret = log['key'][3]"
      ],
      "execution_count": 0,
      "outputs": []
    },
    {
      "cell_type": "code",
      "metadata": {
        "id": "hR5LK2XfeS4b",
        "colab_type": "code",
        "colab": {}
      },
      "source": [
        "# create the authentication object\n",
        "authenticate = tweepy.OAuthHandler(consumerKey, consumerSecret)"
      ],
      "execution_count": 0,
      "outputs": []
    },
    {
      "cell_type": "code",
      "metadata": {
        "id": "bsmAzxo0fb1u",
        "colab_type": "code",
        "colab": {}
      },
      "source": [
        "# set the access token and secret\n",
        "authenticate.set_access_token(accessToken, accessTokenSecret)"
      ],
      "execution_count": 0,
      "outputs": []
    },
    {
      "cell_type": "code",
      "metadata": {
        "id": "_dpsl96Ef-UX",
        "colab_type": "code",
        "colab": {}
      },
      "source": [
        "# create the API object while passing in the auth information\n",
        "api = tweepy.API(authenticate, wait_on_rate_limit=True)"
      ],
      "execution_count": 0,
      "outputs": []
    },
    {
      "cell_type": "markdown",
      "metadata": {
        "id": "zkA39YEtg-gd",
        "colab_type": "text"
      },
      "source": [
        "# 3. Extract tweets from a Twitter user - Bill Gates\n",
        "\n"
      ]
    },
    {
      "cell_type": "code",
      "metadata": {
        "id": "fQjpCuc0gH5y",
        "colab_type": "code",
        "colab": {}
      },
      "source": [
        "# extract 100 tweets from Bill Gates Twitter account\n",
        "posts = api.user_timeline(screen_name = \"BillGates\", count=100, lang='en', tweet_mode='extended')"
      ],
      "execution_count": 0,
      "outputs": []
    },
    {
      "cell_type": "code",
      "metadata": {
        "id": "igaGautOhcLO",
        "colab_type": "code",
        "colab": {
          "base_uri": "https://localhost:8080/",
          "height": 238
        },
        "outputId": "d1f6bf23-dc27-4591-ce5a-d59ee3f6b68d"
      },
      "source": [
        "# show last 5 tweets\n",
        "print(\"Show the recent 5 tweets: \\n\")\n",
        "i = 1\n",
        "for tweet in posts[0:5]:\n",
        "  print(str(i) + ') ' + tweet.full_text + '\\n')\n",
        "  i += 1"
      ],
      "execution_count": 10,
      "outputs": [
        {
          "output_type": "stream",
          "text": [
            "Show the recent 5 tweets: \n",
            "\n",
            "1) RT @MSuzman: The world must work together to slow the coronavirus outbreak, protect the most vulnerable, &amp; develop tools to control this ep…\n",
            "\n",
            "2) @rogerfederer @RafaelNadal @Trevornoah Roger’s foundation partners with local NGOs in six countries in southern Africa to improve early learning and basic education. It’s an impressive organization, and I encourage you to consider supporting its work: https://t.co/fQmyFmjvbm\n",
            "\n",
            "3) I’m excited to team up with @rogerfederer again for the Match in Africa Friday in Cape Town. Playing alongside Roger is always a thrill, and I can’t wait to face off against @RafaelNadal and @Trevornoah. https://t.co/WMlbBtZwVC\n",
            "\n",
            "4) As we conclude our foundation’s second decade of work in global health and education, I have never been more optimistic about the opportunity to improve life for the world’s poorest. I look forward to partnering with you on the work ahead. https://t.co/yUcbdLkBm7\n",
            "\n",
            "5) Thank you, Sue, for all of your contributions to our foundation. I look forward to continuing our work together on important health and education projects that will improve lives. https://t.co/5FaDd56GNC\n",
            "\n"
          ],
          "name": "stdout"
        }
      ]
    },
    {
      "cell_type": "code",
      "metadata": {
        "id": "xdUsZ2LRhdQ0",
        "colab_type": "code",
        "colab": {
          "base_uri": "https://localhost:8080/",
          "height": 195
        },
        "outputId": "76e62891-43c8-4d12-c35b-3ab9f362a02d"
      },
      "source": [
        "# create a dataframe for tweets\n",
        "df = pd.DataFrame([tweet.full_text for tweet in posts], columns=['Tweets'])\n",
        "\n",
        "# preview dataset\n",
        "df.head()"
      ],
      "execution_count": 11,
      "outputs": [
        {
          "output_type": "execute_result",
          "data": {
            "text/html": [
              "<div>\n",
              "<style scoped>\n",
              "    .dataframe tbody tr th:only-of-type {\n",
              "        vertical-align: middle;\n",
              "    }\n",
              "\n",
              "    .dataframe tbody tr th {\n",
              "        vertical-align: top;\n",
              "    }\n",
              "\n",
              "    .dataframe thead th {\n",
              "        text-align: right;\n",
              "    }\n",
              "</style>\n",
              "<table border=\"1\" class=\"dataframe\">\n",
              "  <thead>\n",
              "    <tr style=\"text-align: right;\">\n",
              "      <th></th>\n",
              "      <th>Tweets</th>\n",
              "    </tr>\n",
              "  </thead>\n",
              "  <tbody>\n",
              "    <tr>\n",
              "      <th>0</th>\n",
              "      <td>RT @MSuzman: The world must work together to s...</td>\n",
              "    </tr>\n",
              "    <tr>\n",
              "      <th>1</th>\n",
              "      <td>@rogerfederer @RafaelNadal @Trevornoah Roger’s...</td>\n",
              "    </tr>\n",
              "    <tr>\n",
              "      <th>2</th>\n",
              "      <td>I’m excited to team up with @rogerfederer agai...</td>\n",
              "    </tr>\n",
              "    <tr>\n",
              "      <th>3</th>\n",
              "      <td>As we conclude our foundation’s second decade ...</td>\n",
              "    </tr>\n",
              "    <tr>\n",
              "      <th>4</th>\n",
              "      <td>Thank you, Sue, for all of your contributions ...</td>\n",
              "    </tr>\n",
              "  </tbody>\n",
              "</table>\n",
              "</div>"
            ],
            "text/plain": [
              "                                              Tweets\n",
              "0  RT @MSuzman: The world must work together to s...\n",
              "1  @rogerfederer @RafaelNadal @Trevornoah Roger’s...\n",
              "2  I’m excited to team up with @rogerfederer agai...\n",
              "3  As we conclude our foundation’s second decade ...\n",
              "4  Thank you, Sue, for all of your contributions ..."
            ]
          },
          "metadata": {
            "tags": []
          },
          "execution_count": 11
        }
      ]
    },
    {
      "cell_type": "markdown",
      "metadata": {
        "id": "mJ9mW-55g3Hw",
        "colab_type": "text"
      },
      "source": [
        "# 4. Data Cleaning\n",
        "- We can see that we have some unwanted like the hashtags, mentions, retweets etc.\n",
        "- We will clean this here"
      ]
    },
    {
      "cell_type": "code",
      "metadata": {
        "id": "5unzzZ97NZZA",
        "colab_type": "code",
        "colab": {}
      },
      "source": [
        "# UDF to clean data from tweets\n",
        "def clean_tweets(text):\n",
        "  text = re.sub(r'@[A-Za-z0–9]+', '', text) # remove @mentions\n",
        "  text = re.sub(r'#', '', text)  # remove # symbol\n",
        "  text = re.sub(r'RT[\\]+', '', text)  # remove RT\n",
        "  text = re.sub(r'https?:\\/\\/\\S+', '', text)  # remove hyperlinks\n",
        "\n",
        "  return text\n"
      ],
      "execution_count": 0,
      "outputs": []
    },
    {
      "cell_type": "code",
      "metadata": {
        "id": "M64X9lTyjtIL",
        "colab_type": "code",
        "colab": {
          "base_uri": "https://localhost:8080/",
          "height": 402
        },
        "outputId": "63b15629-09de-4002-a85c-fa78e44ddc63"
      },
      "source": [
        "# Create a function to clean the tweets\n",
        "def clean_tweets(text):\n",
        " text = re.sub('@[A-Za-z0–9]+', '', text) #Remove @mentions\n",
        " text = re.sub('#', '', text) # Remove '#' hash tag\n",
        " text = re.sub('RT[\\s]+', '', text) # Remove RT\n",
        " text = re.sub('https?:\\/\\/\\S+', '', text) # Remove hyperlink\n",
        " \n",
        " return text\n",
        "\n",
        "\n",
        "# Clean the tweets\n",
        "df['Tweets'] = df['Tweets'].apply(clean_tweets)\n",
        "\n",
        "# Show the cleaned tweets\n",
        "df"
      ],
      "execution_count": 13,
      "outputs": [
        {
          "output_type": "execute_result",
          "data": {
            "text/html": [
              "<div>\n",
              "<style scoped>\n",
              "    .dataframe tbody tr th:only-of-type {\n",
              "        vertical-align: middle;\n",
              "    }\n",
              "\n",
              "    .dataframe tbody tr th {\n",
              "        vertical-align: top;\n",
              "    }\n",
              "\n",
              "    .dataframe thead th {\n",
              "        text-align: right;\n",
              "    }\n",
              "</style>\n",
              "<table border=\"1\" class=\"dataframe\">\n",
              "  <thead>\n",
              "    <tr style=\"text-align: right;\">\n",
              "      <th></th>\n",
              "      <th>Tweets</th>\n",
              "    </tr>\n",
              "  </thead>\n",
              "  <tbody>\n",
              "    <tr>\n",
              "      <th>0</th>\n",
              "      <td>: The world must work together to slow the cor...</td>\n",
              "    </tr>\n",
              "    <tr>\n",
              "      <th>1</th>\n",
              "      <td>Roger’s foundation partners with local NGOs...</td>\n",
              "    </tr>\n",
              "    <tr>\n",
              "      <th>2</th>\n",
              "      <td>I’m excited to team up with  again for the Mat...</td>\n",
              "    </tr>\n",
              "    <tr>\n",
              "      <th>3</th>\n",
              "      <td>As we conclude our foundation’s second decade ...</td>\n",
              "    </tr>\n",
              "    <tr>\n",
              "      <th>4</th>\n",
              "      <td>Thank you, Sue, for all of your contributions ...</td>\n",
              "    </tr>\n",
              "    <tr>\n",
              "      <th>...</th>\n",
              "      <td>...</td>\n",
              "    </tr>\n",
              "    <tr>\n",
              "      <th>95</th>\n",
              "      <td>I’ve always loved playing tennis. Maybe this i...</td>\n",
              "    </tr>\n",
              "    <tr>\n",
              "      <th>96</th>\n",
              "      <td>I am hopeful that we can substantially alter t...</td>\n",
              "    </tr>\n",
              "    <tr>\n",
              "      <th>97</th>\n",
              "      <td>The docuseries about my life and work is out t...</td>\n",
              "    </tr>\n",
              "    <tr>\n",
              "      <th>98</th>\n",
              "      <td>Adapting to climate change requires support fr...</td>\n",
              "    </tr>\n",
              "    <tr>\n",
              "      <th>99</th>\n",
              "      <td>The new docuseries that looks at my work is ou...</td>\n",
              "    </tr>\n",
              "  </tbody>\n",
              "</table>\n",
              "<p>100 rows × 1 columns</p>\n",
              "</div>"
            ],
            "text/plain": [
              "                                               Tweets\n",
              "0   : The world must work together to slow the cor...\n",
              "1      Roger’s foundation partners with local NGOs...\n",
              "2   I’m excited to team up with  again for the Mat...\n",
              "3   As we conclude our foundation’s second decade ...\n",
              "4   Thank you, Sue, for all of your contributions ...\n",
              "..                                                ...\n",
              "95  I’ve always loved playing tennis. Maybe this i...\n",
              "96  I am hopeful that we can substantially alter t...\n",
              "97  The docuseries about my life and work is out t...\n",
              "98  Adapting to climate change requires support fr...\n",
              "99  The new docuseries that looks at my work is ou...\n",
              "\n",
              "[100 rows x 1 columns]"
            ]
          },
          "metadata": {
            "tags": []
          },
          "execution_count": 13
        }
      ]
    },
    {
      "cell_type": "markdown",
      "metadata": {
        "id": "rJbmYW5XtYJz",
        "colab_type": "text"
      },
      "source": [
        "# 5. Feature Engineering\n",
        "- Find the subjectivity and polarity of tweets\n",
        "\n",
        "### Subjectivity\n",
        "How opinioniated the text is\n",
        "\n",
        "### Polarity\n",
        "How positive or negative a text is"
      ]
    },
    {
      "cell_type": "code",
      "metadata": {
        "id": "MpdBzWyskFrn",
        "colab_type": "code",
        "colab": {
          "base_uri": "https://localhost:8080/",
          "height": 402
        },
        "outputId": "219f7478-6bc9-4fb2-f858-672373bf9048"
      },
      "source": [
        "# UDF to find subjectivity\n",
        "def get_subjectivity(text):\n",
        "  return TextBlob(text).sentiment.subjectivity\n",
        "\n",
        "# UDF to get the polarity\n",
        "def get_polarity(text):\n",
        "  return TextBlob(text).sentiment.polarity\n",
        "\n",
        "# create two new columns\n",
        "df['Subjectivity'] = df['Tweets'].apply(get_subjectivity)\n",
        "df['Polarity'] = df['Tweets'].apply(get_polarity)\n",
        "\n",
        "# preview dataframe\n",
        "df"
      ],
      "execution_count": 14,
      "outputs": [
        {
          "output_type": "execute_result",
          "data": {
            "text/html": [
              "<div>\n",
              "<style scoped>\n",
              "    .dataframe tbody tr th:only-of-type {\n",
              "        vertical-align: middle;\n",
              "    }\n",
              "\n",
              "    .dataframe tbody tr th {\n",
              "        vertical-align: top;\n",
              "    }\n",
              "\n",
              "    .dataframe thead th {\n",
              "        text-align: right;\n",
              "    }\n",
              "</style>\n",
              "<table border=\"1\" class=\"dataframe\">\n",
              "  <thead>\n",
              "    <tr style=\"text-align: right;\">\n",
              "      <th></th>\n",
              "      <th>Tweets</th>\n",
              "      <th>Subjectivity</th>\n",
              "      <th>Polarity</th>\n",
              "    </tr>\n",
              "  </thead>\n",
              "  <tbody>\n",
              "    <tr>\n",
              "      <th>0</th>\n",
              "      <td>: The world must work together to slow the cor...</td>\n",
              "      <td>0.466667</td>\n",
              "      <td>-0.100000</td>\n",
              "    </tr>\n",
              "    <tr>\n",
              "      <th>1</th>\n",
              "      <td>Roger’s foundation partners with local NGOs...</td>\n",
              "      <td>0.279167</td>\n",
              "      <td>0.225000</td>\n",
              "    </tr>\n",
              "    <tr>\n",
              "      <th>2</th>\n",
              "      <td>I’m excited to team up with  again for the Mat...</td>\n",
              "      <td>0.750000</td>\n",
              "      <td>0.375000</td>\n",
              "    </tr>\n",
              "    <tr>\n",
              "      <th>3</th>\n",
              "      <td>As we conclude our foundation’s second decade ...</td>\n",
              "      <td>0.166667</td>\n",
              "      <td>0.166667</td>\n",
              "    </tr>\n",
              "    <tr>\n",
              "      <th>4</th>\n",
              "      <td>Thank you, Sue, for all of your contributions ...</td>\n",
              "      <td>1.000000</td>\n",
              "      <td>0.400000</td>\n",
              "    </tr>\n",
              "    <tr>\n",
              "      <th>...</th>\n",
              "      <td>...</td>\n",
              "      <td>...</td>\n",
              "      <td>...</td>\n",
              "    </tr>\n",
              "    <tr>\n",
              "      <th>95</th>\n",
              "      <td>I’ve always loved playing tennis. Maybe this i...</td>\n",
              "      <td>0.650000</td>\n",
              "      <td>0.600000</td>\n",
              "    </tr>\n",
              "    <tr>\n",
              "      <th>96</th>\n",
              "      <td>I am hopeful that we can substantially alter t...</td>\n",
              "      <td>0.250000</td>\n",
              "      <td>0.250000</td>\n",
              "    </tr>\n",
              "    <tr>\n",
              "      <th>97</th>\n",
              "      <td>The docuseries about my life and work is out t...</td>\n",
              "      <td>0.000000</td>\n",
              "      <td>0.000000</td>\n",
              "    </tr>\n",
              "    <tr>\n",
              "      <th>98</th>\n",
              "      <td>Adapting to climate change requires support fr...</td>\n",
              "      <td>0.477273</td>\n",
              "      <td>0.318182</td>\n",
              "    </tr>\n",
              "    <tr>\n",
              "      <th>99</th>\n",
              "      <td>The new docuseries that looks at my work is ou...</td>\n",
              "      <td>0.454545</td>\n",
              "      <td>0.136364</td>\n",
              "    </tr>\n",
              "  </tbody>\n",
              "</table>\n",
              "<p>100 rows × 3 columns</p>\n",
              "</div>"
            ],
            "text/plain": [
              "                                               Tweets  Subjectivity  Polarity\n",
              "0   : The world must work together to slow the cor...      0.466667 -0.100000\n",
              "1      Roger’s foundation partners with local NGOs...      0.279167  0.225000\n",
              "2   I’m excited to team up with  again for the Mat...      0.750000  0.375000\n",
              "3   As we conclude our foundation’s second decade ...      0.166667  0.166667\n",
              "4   Thank you, Sue, for all of your contributions ...      1.000000  0.400000\n",
              "..                                                ...           ...       ...\n",
              "95  I’ve always loved playing tennis. Maybe this i...      0.650000  0.600000\n",
              "96  I am hopeful that we can substantially alter t...      0.250000  0.250000\n",
              "97  The docuseries about my life and work is out t...      0.000000  0.000000\n",
              "98  Adapting to climate change requires support fr...      0.477273  0.318182\n",
              "99  The new docuseries that looks at my work is ou...      0.454545  0.136364\n",
              "\n",
              "[100 rows x 3 columns]"
            ]
          },
          "metadata": {
            "tags": []
          },
          "execution_count": 14
        }
      ]
    },
    {
      "cell_type": "markdown",
      "metadata": {
        "id": "lTu9O_mIvcPp",
        "colab_type": "text"
      },
      "source": [
        "# 6. Data Visualization\n",
        "### Word Cloud"
      ]
    },
    {
      "cell_type": "code",
      "metadata": {
        "id": "L3-SVi21tIzW",
        "colab_type": "code",
        "colab": {
          "base_uri": "https://localhost:8080/",
          "height": 256
        },
        "outputId": "2b7d2141-3e71-4762-df1e-80fa1bdf23a7"
      },
      "source": [
        "# plot word cloud\n",
        "all_words = ' '.join([twts for twts in df['Tweets']])\n",
        "word_cloud = WordCloud(width = 500, height = 300, random_state = 21, max_font_size = 119).generate(all_words)\n",
        "\n",
        "plt.imshow(word_cloud, interpolation = 'bilinear')\n",
        "plt.axis('off')\n",
        "plt.show()"
      ],
      "execution_count": 15,
      "outputs": [
        {
          "output_type": "display_data",
          "data": {
            "image/png": "[encoded data removed]",
            "text/plain": [
              "<Figure size 432x288 with 1 Axes>"
            ]
          },
          "metadata": {
            "tags": []
          }
        }
      ]
    },
    {
      "cell_type": "markdown",
      "metadata": {
        "id": "2YoI2Dsfw0xF",
        "colab_type": "text"
      },
      "source": [
        "- 'world', 'work', 'year', 'disease', 'one' are some words that are being used the most"
      ]
    },
    {
      "cell_type": "code",
      "metadata": {
        "id": "vVtJz_YNwNQ7",
        "colab_type": "code",
        "colab": {
          "base_uri": "https://localhost:8080/",
          "height": 402
        },
        "outputId": "5c3e046a-1f36-4133-8225-268dd5ad014f"
      },
      "source": [
        "# UDF to compute negative, neutral, and positive analysis\n",
        "def get_analysis(score):\n",
        "  if score < 0:\n",
        "    return 'Negative'\n",
        "  elif score > 0:\n",
        "    return 'Positive'\n",
        "  else:\n",
        "    return 'Neutral'\n",
        "\n",
        "# create new feature\n",
        "df['Analysis'] = df['Polarity'].apply(get_analysis)\n",
        "\n",
        "# preview dataset\n",
        "df"
      ],
      "execution_count": 16,
      "outputs": [
        {
          "output_type": "execute_result",
          "data": {
            "text/html": [
              "<div>\n",
              "<style scoped>\n",
              "    .dataframe tbody tr th:only-of-type {\n",
              "        vertical-align: middle;\n",
              "    }\n",
              "\n",
              "    .dataframe tbody tr th {\n",
              "        vertical-align: top;\n",
              "    }\n",
              "\n",
              "    .dataframe thead th {\n",
              "        text-align: right;\n",
              "    }\n",
              "</style>\n",
              "<table border=\"1\" class=\"dataframe\">\n",
              "  <thead>\n",
              "    <tr style=\"text-align: right;\">\n",
              "      <th></th>\n",
              "      <th>Tweets</th>\n",
              "      <th>Subjectivity</th>\n",
              "      <th>Polarity</th>\n",
              "      <th>Analysis</th>\n",
              "    </tr>\n",
              "  </thead>\n",
              "  <tbody>\n",
              "    <tr>\n",
              "      <th>0</th>\n",
              "      <td>: The world must work together to slow the cor...</td>\n",
              "      <td>0.466667</td>\n",
              "      <td>-0.100000</td>\n",
              "      <td>Negative</td>\n",
              "    </tr>\n",
              "    <tr>\n",
              "      <th>1</th>\n",
              "      <td>Roger’s foundation partners with local NGOs...</td>\n",
              "      <td>0.279167</td>\n",
              "      <td>0.225000</td>\n",
              "      <td>Positive</td>\n",
              "    </tr>\n",
              "    <tr>\n",
              "      <th>2</th>\n",
              "      <td>I’m excited to team up with  again for the Mat...</td>\n",
              "      <td>0.750000</td>\n",
              "      <td>0.375000</td>\n",
              "      <td>Positive</td>\n",
              "    </tr>\n",
              "    <tr>\n",
              "      <th>3</th>\n",
              "      <td>As we conclude our foundation’s second decade ...</td>\n",
              "      <td>0.166667</td>\n",
              "      <td>0.166667</td>\n",
              "      <td>Positive</td>\n",
              "    </tr>\n",
              "    <tr>\n",
              "      <th>4</th>\n",
              "      <td>Thank you, Sue, for all of your contributions ...</td>\n",
              "      <td>1.000000</td>\n",
              "      <td>0.400000</td>\n",
              "      <td>Positive</td>\n",
              "    </tr>\n",
              "    <tr>\n",
              "      <th>...</th>\n",
              "      <td>...</td>\n",
              "      <td>...</td>\n",
              "      <td>...</td>\n",
              "      <td>...</td>\n",
              "    </tr>\n",
              "    <tr>\n",
              "      <th>95</th>\n",
              "      <td>I’ve always loved playing tennis. Maybe this i...</td>\n",
              "      <td>0.650000</td>\n",
              "      <td>0.600000</td>\n",
              "      <td>Positive</td>\n",
              "    </tr>\n",
              "    <tr>\n",
              "      <th>96</th>\n",
              "      <td>I am hopeful that we can substantially alter t...</td>\n",
              "      <td>0.250000</td>\n",
              "      <td>0.250000</td>\n",
              "      <td>Positive</td>\n",
              "    </tr>\n",
              "    <tr>\n",
              "      <th>97</th>\n",
              "      <td>The docuseries about my life and work is out t...</td>\n",
              "      <td>0.000000</td>\n",
              "      <td>0.000000</td>\n",
              "      <td>Neutral</td>\n",
              "    </tr>\n",
              "    <tr>\n",
              "      <th>98</th>\n",
              "      <td>Adapting to climate change requires support fr...</td>\n",
              "      <td>0.477273</td>\n",
              "      <td>0.318182</td>\n",
              "      <td>Positive</td>\n",
              "    </tr>\n",
              "    <tr>\n",
              "      <th>99</th>\n",
              "      <td>The new docuseries that looks at my work is ou...</td>\n",
              "      <td>0.454545</td>\n",
              "      <td>0.136364</td>\n",
              "      <td>Positive</td>\n",
              "    </tr>\n",
              "  </tbody>\n",
              "</table>\n",
              "<p>100 rows × 4 columns</p>\n",
              "</div>"
            ],
            "text/plain": [
              "                                               Tweets  ...  Analysis\n",
              "0   : The world must work together to slow the cor...  ...  Negative\n",
              "1      Roger’s foundation partners with local NGOs...  ...  Positive\n",
              "2   I’m excited to team up with  again for the Mat...  ...  Positive\n",
              "3   As we conclude our foundation’s second decade ...  ...  Positive\n",
              "4   Thank you, Sue, for all of your contributions ...  ...  Positive\n",
              "..                                                ...  ...       ...\n",
              "95  I’ve always loved playing tennis. Maybe this i...  ...  Positive\n",
              "96  I am hopeful that we can substantially alter t...  ...  Positive\n",
              "97  The docuseries about my life and work is out t...  ...   Neutral\n",
              "98  Adapting to climate change requires support fr...  ...  Positive\n",
              "99  The new docuseries that looks at my work is ou...  ...  Positive\n",
              "\n",
              "[100 rows x 4 columns]"
            ]
          },
          "metadata": {
            "tags": []
          },
          "execution_count": 16
        }
      ]
    },
    {
      "cell_type": "code",
      "metadata": {
        "id": "vvFlBQ8qyS6D",
        "colab_type": "code",
        "colab": {
          "base_uri": "https://localhost:8080/",
          "height": 1000
        },
        "outputId": "decc4030-da01-4540-c0fc-cd8f9e99c011"
      },
      "source": [
        "# print all positive tweets\n",
        "j = 1\n",
        "sorted_df = df.sort_values(by=['Polarity'])\n",
        "for i in range(0, sorted_df.shape[0]):\n",
        "  if(sorted_df['Analysis'][i] == 'Positive'):\n",
        "    print(str(j)+ ') '+sorted_df['Tweets'][i])\n",
        "    print()\n",
        "    j = j+1"
      ],
      "execution_count": 17,
      "outputs": [
        {
          "output_type": "stream",
          "text": [
            "1)    Roger’s foundation partners with local NGOs in six countries in southern Africa to improve early learning and basic education. It’s an impressive organization, and I encourage you to consider supporting its work: \n",
            "\n",
            "2) I’m excited to team up with  again for the Match in Africa Friday in Cape Town. Playing alongside Roger is always a thrill, and I can’t wait to face off against  and . \n",
            "\n",
            "3) As we conclude our foundation’s second decade of work in global health and education, I have never been more optimistic about the opportunity to improve life for the world’s poorest. I look forward to partnering with you on the work ahead. \n",
            "\n",
            "4) Thank you, Sue, for all of your contributions to our foundation. I look forward to continuing our work together on important health and education projects that will improve lives. \n",
            "\n",
            "5) The world has only begun to tap into all the ways AI will help people live healthier lives. I’m excited about the launch of ’s new AI for Health initiative, which connects researchers and organizations with world-class AI talent and resources. \n",
            "\n",
            "6) I joined  ten years (and a couple of days) ago. These are some of my favorite tweets. What’s your favorite tweet from the last ten years? \n",
            "\n",
            "7)  There are still too many children—many living in some of the hardest-to-reach places on the planet—who aren’t getting basic vaccines. Gavi is the best tool we have to reach them.  VaccinesWork\n",
            "\n",
            "8) For twenty years,  has worked to ensure that every child in the world is protected from preventable diseases. The results are incredible. But their work is far from done. \n",
            "\n",
            "9) I had a fascinating conversation with Vaclav Smil about what bacteria, babies, empires, and economies all have in common:  \n",
            "\n",
            "10) Thanks to the work of this father–daughter dynamic duo, Bangladesh is moving toward a future of fewer disease outbreaks and more children reaching their fifth birthday. \n",
            "\n",
            "11) Solving the world’s toughest challenges—like fighting the worst impacts of climate change—requires lots of new ideas and talented people working across many fields. I’m glad to see this effort to support this important work. \n",
            "\n",
            "12) Progress isn’t always easy to see. These charts show some of the ways that the world is getting better. \n",
            "\n",
            "13) America’s tax system will be top of mind for many in 2020. Here’s what I really think. \n",
            "\n",
            "14) If your New Year’s resolution is to be healthier in 2020, this book is a good place to start. \n",
            "\n",
            "15) I’m glad __news is highlighting some of the amazing things happening in the world. \n",
            "\n",
            "16) Vaclav Smil is one of my favorite thinkers, and I couldn’t wait to get my hands on his new book about the growth of *everything*. \n",
            "\n",
            "17) What’s next for our foundation? I’m particularly excited about what the next year could mean for one of the best buys in global health: vaccines. \n",
            "\n",
            "18) I’ve read a lot of books about history over the years, and These Truths by Jill Lepore is the most honest and unflinching account of the American story I’ve ever seen. It’s also one of the most beautifully written. \n",
            "\n",
            "19) December is a great time to take stock of everything you’ve done over the last twelve months—including all of the books you’ve read. I found these books to be really clever and engaging. I hope you them find as intriguing as I did:  \n",
            "\n",
            "20) Back in my early Microsoft days, I routinely pulled all-nighters when we had to deliver a piece of software. I even stayed up two nights in a row on occasion–I don’t recommend that. This book taught me a lot about the importance of a better night's sleep. \n",
            "\n",
            "21) This new treatment is a gamechanger for millions of people living with HIV in South Africa. I’m optimistic that it could help EndAIDS around the world. \n",
            "\n",
            "22) Here are two amazing statistics: primary health care interventions could save 60 million lives in low-and middle-income countries and increase average life expectancy by 3.7 years by 2030:  HealthForAll \n",
            "\n",
            "23) Diane Tavenner had a simple but very ambitious goal: “We wanted to teach kids not just what they needed to get into college, but what they needed to live a good life.” You can read an excerpt from her wonderful new book on my blog. \n",
            "\n",
            "24) I’ve read a lot of great books this year. Here are some I think you’ll enjoy reading over the holidays. \n",
            "\n",
            "25) I'm a big fan of  and was excited when they asked me to appear in the series finale tonight. AlwaysBlue \n",
            "\n",
            "26) Thank you, Sue, for your extraordinary leadership. Melinda and I are grateful for the opportunity we’ve had to learn with and from you over the past five-and-a-half years, and we wish you and your family the best. \n",
            "\n",
            "27) I really enjoyed sitting down with  to talk about the role great cofounders and partners have played in my career, like Paul Allen at Microsoft and  at the Gates Foundation. You can listen to our conversation here:  \n",
            "\n",
            "28) Technology has made it faster and easier than ever before for people everywhere to give. I’m inspired by how many people from all over the world participate in GivingTuesday.  \n",
            "\n",
            "29) I was impressed to see the tremendous impact ’s apprenticeship program is having on students and their community:  \n",
            "\n",
            "30) This WorldAIDSDay, I’m excited about breakthroughs in treating and preventing HIV thanks to organizations like the . \n",
            "\n",
            "31) The world has made incredible strides toward ending the AIDS epidemic over the last twenty years, and I’m optimistic that more progress is on the way. Explore the data:  WorldAIDSDay\n",
            "\n",
            "32) At , an auto parts maker in Chattanooga, Tennessee, I saw how the factory is putting high school students on a path to opportunity:  \n",
            "\n",
            "33) Dr. LeAndrea Ware is one of the most energetic school leaders I’ve ever met. Her positivity is infectious. It’s no wonder she was recently named the Tennessee principal of the year:  \n",
            "\n",
            "34) US education may be the hardest issue our foundation works on. A recent visit to The Howard School in Chattanooga, Tennessee reminded me why it’s also one of the most inspiring. \n",
            "\n",
            "35) You could find wild poliovirus in 125 countries in 1988. Today, it exists in just two. And more than 18 million people are walking today who would otherwise have been paralyzed by polio. Here’s why we aren’t done yet:  \n",
            "\n",
            "36) The incredible, diverse global partnership that halted wild polio’s spread in Nigeria 3 years ago makes me optimistic we’ll EndPolio worldwide. \n",
            "\n",
            "37) Some of our most vital partners in the fight to EndPolio are philanthropies like _philan, , Tahir Foundation, Dalio Philanthropies &amp; Ningxia Yanbao Charity Foundation. Their support has helped deliver vaccines and protect millions from polio paralysis. \n",
            "\n",
            "38) Even a single child paralyzed by polio is one too many, but I’m optimistic that we will eradicate the disease thanks to the GPEI’s persistence and creativity. \n",
            "\n",
            "39)  .'s leadership has been a catalyst to India's progress on improving health, nutrition and ensuring safe sanitation practices for many. \n",
            "\n",
            "40) The more I’ve learned about Alzheimer’s disease, the more I’ve come to admire the volunteers who participate in clinical trials, and their caregivers too. Here’s a way you can help fight Alzheimer’s:  \n",
            "\n",
            "41) Better tools for collecting and sharing data will help community health workers protect families in the poorest parts of the world.  \n",
            "\n",
            "42) Expanding the diversity of therapies in the pipeline and more efficiently recruiting patients for clinical trials will increase our odds of discovering a breakthrough. I’m hopeful it will lead to an intervention that reduces the impact of Alzheimer’s. \n",
            "\n",
            "43)  I’m always willing to talk about creative solutions to these problems.\n",
            "\n",
            "44)  I greatly respect your commitment to finding ways to address wealth inequality and poverty at home. While we may disagree about some of the ways to get there, we certainly agree we need a lot of smart people committed to finding the path forward.\n",
            "\n",
            "45)  You and the other candidates are having a really interesting conversation on how to solve some of the world’s toughest problems like eliminating global poverty and avoiding a climate disaster (though those issues don’t get talked about as much as they should).\n",
            "\n",
            "46) One of the many awful things about watching someone you love struggle with Alzheimer’s is the feeling of helplessness. You keep thinking that there must be something more you can do. Here's one option. \n",
            "\n",
            "47) Buildings are one of the five areas where we need a lot of innovation if we’re going to avoid a climate disaster. I wrote about one company with a particularly clever approach. \n",
            "\n",
            "48) A lot of work remains, but it’s exciting to see positive data on a drug candidate that may alter the course of Alzheimer’s disease. \n",
            "\n",
            "49) I always like to try out a new TV show or two when I’m on the road. What should I watch next? I set up an Ask on  to collect your recommendations. \n",
            "\n",
            "50) \"This is a solvable problem.\"  (which I’ve helped fund through  Ventures) has developed an innovative way to reduce cement's carbon footprint:  \n",
            "\n",
            "51) One of the best parts of my job is getting to work with some of the world’s most brilliant minds on seemingly intractable problems. Here’s how we’re trying to tackle one of the defining technical challenges of our time. \n",
            "\n",
            "52) This is one of the most important topics in medicine today: how can we make data more readily available for researchers to look for patterns and identify new pathways for treatment. \n",
            "\n",
            "53) The world has made incredible progress toward the goal to endpolio thanks to partners like  and the UAE. \n",
            "\n",
            "54) Melinda and I feel pressure to make every dollar and every day count, which is why we say no to a lot more opportunities than we say yes to. Working with partners around the world to EndPolio has been a fight worth every dollar. \n",
            "\n",
            "55) Tackling the world’s toughest health challenges requires the best that science has to offer. Thank you to  and  for your partnership. \n",
            "\n",
            "56) Congrats to the 2019 winners of the  in chemistry! Few inventions have changed our lives as much as the battery, and the quest to build a better one is an important step in the fight against climate change. \n",
            "\n",
            "57) Malnutrition is the single greatest health inequity in the world. In its 2019 State of the World’s Children report,  takes a critical look at how we can help everyone reach their full potential by improving access to nutrition. \n",
            "\n",
            "58) The world’s poorest people often rely on farming both to feed their families and to earn an income. They will be among the first to face the effects of climate change. I’m excited about innovations aimed at addressing this problem:  \n",
            "\n",
            "59) Congrats to Esther Duflo, Abhijit Banerjee, and Michael Kremer for winning this year’s  in economics. I’ve learned a lot from their pioneering work to better understand the complexities of the lives of the world’s poorest people. \n",
            "\n",
            "60) The odds of dying of AIDS in South Africa are less than half what they were at the peak. That progress wouldn’t have been possible without the  and other global health organizations. Even more progress is possible if we keep up the fight:  \n",
            "\n",
            "61) We need more approaches to stopping Alzheimers disease. I’m excited to see this news out of _de and _Research about a promising starting point for the development of new therapeutic strategies. \n",
            "\n",
            "62) I’m impressed by the international cooperation that made this year’s  Replenishment round possible. The world has committed more than ever before. Our foundation is proud to commit $700 million to over the next 3 years. StepUptheFight \n",
            "\n",
            "63) I can’t think of a more fitting tribute to Hans Rosling and his life’s work. Hans was a dear friend to Melinda and me – and inspired us all with his passion, intelligence, and wit. \n",
            "\n",
            "64) I’m in Lyon, France for the ’s replenishment – celebrating the most money ever raised for their life-saving work. I’m excited for the day that these diseases are in the history books. StepUptheFight \n",
            "\n",
            "65) In Afghanistan, one of the last countries with polio, vaccine acceptance rates have reached 98% thanks to the tireless work of female health workers. Their increased involvement and passion is why polio eradication is within reach in Afghanistan. \n",
            "\n",
            "66) If all countries in the world had the same concentration of researchers as wealthy ones, there would be 3x as many researchers. That’s mind-blowing. We all lose out when talent isn’t connected with opportunity.  \n",
            "\n",
            "67) Malnutrition is the greatest health inequity in the world. I recently spoke with my friend  about how we can use iodized salt to help kids gets the nutrients they need:  \n",
            "\n",
            "68) I’m lucky to have known Stephen Hawking — and he was as exceptional in person as you imagined he was. As remarkable as his contributions to physics were, his biggest accomplishment was inspiring the world to believe in the magic of science and research. \n",
            "\n",
            "69)  is right: climate change touches everything and everyone -- and, unfairly, the poor and marginalized have the most to lose. \n",
            "\n",
            "If you want to understand what can be done, I highly recommend you read this issue. \n",
            "\n",
            "70) I’m delighted that _solberg has re-upped Norway’s commitment to support the work of the . I welcome her sustained leadership and partnership in the fight against AIDS, TB, and malaria. \n",
            "\n",
            "71) Most people know  as Africa’s wealthiest man, but I know him as one of our foundation’s most impactful partners in improving health. Melinda and I are lucky to count him as a partner (and friend!) in our work. \n",
            "\n",
            "72) More and more children are living to see their 5th birthdays. That’s because the world has made incredible progress in reducing child mortality. But progress has been uneven. We have more work to do to close the gaps across countries and within them. \n",
            "\n",
            "73) It's really incredible how much time and effort goes into producing a documentary like the new  series I participated in. I shared more about the experience on my blog:  \n",
            "\n",
            "74) Ending poverty and achieving the SDGs requires a whole-of-government approach.  and  have shown leadership in developing a new anti-poverty strategy. Ehsaas \n",
            "\n",
            "75) .’s commitment to the  reflects Spain’s leadership. At a time when more countries are turning inward, Spain is showing that we can’t back away from our commitment to fighting poverty and disease. \n",
            "\n",
            "76) : The third annual Goalkeepers19 event brings together a new generation of changemakers to accelerate progress toward t…\n",
            "\n",
            "77) I’ve always loved playing tennis. Maybe this is why. See more deleted scenes from the  series about my life and read exclusive stories on my blog:  \n",
            "\n",
            "78) I am hopeful that we can substantially alter the course of Alzheimer’s disease. This World Alzheimer’s Day, join me in supporting Alzheimer’s research by watching and sharing ’s SharetheOrange video with . \n",
            "\n",
            "79) Adapting to climate change requires support from governments and businesses to ensure those most at risk have the opportunity to thrive. A new report from  lays out steps we can take to address this urgent issue. \n",
            "\n",
            "80) The new docuseries that looks at my work is out tomorrow. I hope you check it out on . I can’t wait to hear what you think:  \n",
            "\n"
          ],
          "name": "stdout"
        }
      ]
    },
    {
      "cell_type": "markdown",
      "metadata": {
        "id": "LVdWl7T01CSF",
        "colab_type": "text"
      },
      "source": [
        "- 80 out of 100 tweets are positive"
      ]
    },
    {
      "cell_type": "code",
      "metadata": {
        "id": "GBbobFx6zB3S",
        "colab_type": "code",
        "colab": {
          "base_uri": "https://localhost:8080/",
          "height": 390
        },
        "outputId": "c347f678-eb55-4d16-f359-a62694d51d7f"
      },
      "source": [
        "# print all negative tweets\n",
        "j = 1\n",
        "sorted_df = df.sort_values(by=['Polarity'], ascending='False')\n",
        "for i in range(0, sorted_df.shape[0]):\n",
        "  if sorted_df['Analysis'][i] == 'Negative':\n",
        "    print(str(j) + \") \" + sorted_df['Tweets'][i])\n",
        "    print()\n",
        "    j = j+1"
      ],
      "execution_count": 19,
      "outputs": [
        {
          "output_type": "stream",
          "text": [
            "1) : The world must work together to slow the coronavirus outbreak, protect the most vulnerable, &amp; develop tools to control this ep…\n",
            "\n",
            "2) Game on! \n",
            "\n",
            "3) It's great to see Microsoft's leadership in this area. Avoiding the worst effects of climate change will require innovation and investment to get us to net zero carbon emissions across all sectors of the economy. \n",
            "\n",
            "4) These global health heroes have helped Bangladesh become a model for other countries for how to respond to infectious disease outbreaks:  \n",
            "\n",
            "5) It’s encouraging to see these results. Typhoid is especially deadly for young children, and a vaccine like this has the potential to save millions of lives. \n",
            "\n",
            "6) I was deeply moved by Tayari Jones’s story of a married couple whose lives get torn apart by an incident of injustice. The book is so well-written that you’ll find yourself sucked into it despite the heavy subject matter. \n",
            "\n",
            "7) In Abu Dhabi this week, the world committed $2.6B to EndPolio. Thank you  for your leadership in helping push this terrible disease to the brink of eradication. \n",
            "\n",
            "8) We have cut the number of child deaths in half over the last 20 years. New tools like these precision maps from \n",
            "_UW will help us cut child mortality in half again by 2030.  \n",
            "\n",
            "9) Sanitation is a difficult issue to take on because there are no easy solutions. Tonight we recognized the progress India has made on this issue through its Swachh Bharat program, under the leadership of . \n",
            "\n",
            "10) I’m excited to see world leaders and climate advocates coming together to make progress at the UNGA ClimateAction Summit. Working together we can prevent the worst effects of climate change. \n",
            "\n"
          ],
          "name": "stdout"
        }
      ]
    },
    {
      "cell_type": "markdown",
      "metadata": {
        "id": "MAdx1EzBDMIj",
        "colab_type": "text"
      },
      "source": [
        "- 10 out of 100 tweets are negative"
      ]
    },
    {
      "cell_type": "code",
      "metadata": {
        "id": "f_BGGdRGCn4P",
        "colab_type": "code",
        "colab": {
          "base_uri": "https://localhost:8080/",
          "height": 441
        },
        "outputId": "b0e1e304-2763-433c-bc48-04de8ec0e051"
      },
      "source": [
        "# plot the polarity and subjectivity\n",
        "plt.figure(figsize=(10,6))\n",
        "for i in range(0,df.shape[0]):\n",
        "  plt.scatter(df[\"Polarity\"][i], df['Subjectivity'][i], color='Blue')\n",
        "\n",
        "plt.title(\"Sentiment Analysis\")\n",
        "plt.xlabel(\"Polarity\")\n",
        "plt.ylabel(\"Subjectivity\")\n",
        "plt.show()"
      ],
      "execution_count": 22,
      "outputs": [
        {
          "output_type": "display_data",
          "data": {
            "image/png": "[encoded data removed]",
            "text/plain": [
              "<Figure size 720x432 with 1 Axes>"
            ]
          },
          "metadata": {
            "tags": []
          }
        }
      ]
    },
    {
      "cell_type": "markdown",
      "metadata": {
        "id": "_8sqpWSkEQij",
        "colab_type": "text"
      },
      "source": [
        "- maximum tweets are on the right (+ve polarity)"
      ]
    },
    {
      "cell_type": "code",
      "metadata": {
        "id": "0qWxbeCJEKwi",
        "colab_type": "code",
        "colab": {
          "base_uri": "https://localhost:8080/",
          "height": 402
        },
        "outputId": "950300bd-75a4-4994-c4ce-6a41682a3d5f"
      },
      "source": [
        "# print all positive tweets (alternate way)\n",
        "ptweets = df[df['Analysis'] == 'Positive']\n",
        "ptweets"
      ],
      "execution_count": 23,
      "outputs": [
        {
          "output_type": "execute_result",
          "data": {
            "text/html": [
              "<div>\n",
              "<style scoped>\n",
              "    .dataframe tbody tr th:only-of-type {\n",
              "        vertical-align: middle;\n",
              "    }\n",
              "\n",
              "    .dataframe tbody tr th {\n",
              "        vertical-align: top;\n",
              "    }\n",
              "\n",
              "    .dataframe thead th {\n",
              "        text-align: right;\n",
              "    }\n",
              "</style>\n",
              "<table border=\"1\" class=\"dataframe\">\n",
              "  <thead>\n",
              "    <tr style=\"text-align: right;\">\n",
              "      <th></th>\n",
              "      <th>Tweets</th>\n",
              "      <th>Subjectivity</th>\n",
              "      <th>Polarity</th>\n",
              "      <th>Analysis</th>\n",
              "    </tr>\n",
              "  </thead>\n",
              "  <tbody>\n",
              "    <tr>\n",
              "      <th>1</th>\n",
              "      <td>Roger’s foundation partners with local NGOs...</td>\n",
              "      <td>0.279167</td>\n",
              "      <td>0.225000</td>\n",
              "      <td>Positive</td>\n",
              "    </tr>\n",
              "    <tr>\n",
              "      <th>2</th>\n",
              "      <td>I’m excited to team up with  again for the Mat...</td>\n",
              "      <td>0.750000</td>\n",
              "      <td>0.375000</td>\n",
              "      <td>Positive</td>\n",
              "    </tr>\n",
              "    <tr>\n",
              "      <th>3</th>\n",
              "      <td>As we conclude our foundation’s second decade ...</td>\n",
              "      <td>0.166667</td>\n",
              "      <td>0.166667</td>\n",
              "      <td>Positive</td>\n",
              "    </tr>\n",
              "    <tr>\n",
              "      <th>4</th>\n",
              "      <td>Thank you, Sue, for all of your contributions ...</td>\n",
              "      <td>1.000000</td>\n",
              "      <td>0.400000</td>\n",
              "      <td>Positive</td>\n",
              "    </tr>\n",
              "    <tr>\n",
              "      <th>7</th>\n",
              "      <td>The world has only begun to tap into all the w...</td>\n",
              "      <td>0.676136</td>\n",
              "      <td>0.161932</td>\n",
              "      <td>Positive</td>\n",
              "    </tr>\n",
              "    <tr>\n",
              "      <th>...</th>\n",
              "      <td>...</td>\n",
              "      <td>...</td>\n",
              "      <td>...</td>\n",
              "      <td>...</td>\n",
              "    </tr>\n",
              "    <tr>\n",
              "      <th>91</th>\n",
              "      <td>: The third annual Goalkeepers19 event brings ...</td>\n",
              "      <td>0.227273</td>\n",
              "      <td>0.068182</td>\n",
              "      <td>Positive</td>\n",
              "    </tr>\n",
              "    <tr>\n",
              "      <th>95</th>\n",
              "      <td>I’ve always loved playing tennis. Maybe this i...</td>\n",
              "      <td>0.650000</td>\n",
              "      <td>0.600000</td>\n",
              "      <td>Positive</td>\n",
              "    </tr>\n",
              "    <tr>\n",
              "      <th>96</th>\n",
              "      <td>I am hopeful that we can substantially alter t...</td>\n",
              "      <td>0.250000</td>\n",
              "      <td>0.250000</td>\n",
              "      <td>Positive</td>\n",
              "    </tr>\n",
              "    <tr>\n",
              "      <th>98</th>\n",
              "      <td>Adapting to climate change requires support fr...</td>\n",
              "      <td>0.477273</td>\n",
              "      <td>0.318182</td>\n",
              "      <td>Positive</td>\n",
              "    </tr>\n",
              "    <tr>\n",
              "      <th>99</th>\n",
              "      <td>The new docuseries that looks at my work is ou...</td>\n",
              "      <td>0.454545</td>\n",
              "      <td>0.136364</td>\n",
              "      <td>Positive</td>\n",
              "    </tr>\n",
              "  </tbody>\n",
              "</table>\n",
              "<p>80 rows × 4 columns</p>\n",
              "</div>"
            ],
            "text/plain": [
              "                                               Tweets  ...  Analysis\n",
              "1      Roger’s foundation partners with local NGOs...  ...  Positive\n",
              "2   I’m excited to team up with  again for the Mat...  ...  Positive\n",
              "3   As we conclude our foundation’s second decade ...  ...  Positive\n",
              "4   Thank you, Sue, for all of your contributions ...  ...  Positive\n",
              "7   The world has only begun to tap into all the w...  ...  Positive\n",
              "..                                                ...  ...       ...\n",
              "91  : The third annual Goalkeepers19 event brings ...  ...  Positive\n",
              "95  I’ve always loved playing tennis. Maybe this i...  ...  Positive\n",
              "96  I am hopeful that we can substantially alter t...  ...  Positive\n",
              "98  Adapting to climate change requires support fr...  ...  Positive\n",
              "99  The new docuseries that looks at my work is ou...  ...  Positive\n",
              "\n",
              "[80 rows x 4 columns]"
            ]
          },
          "metadata": {
            "tags": []
          },
          "execution_count": 23
        }
      ]
    },
    {
      "cell_type": "code",
      "metadata": {
        "id": "uNefg45nJHPz",
        "colab_type": "code",
        "colab": {
          "base_uri": "https://localhost:8080/",
          "height": 34
        },
        "outputId": "4889e963-9c0a-4992-a6b2-7f9ac0a2c35d"
      },
      "source": [
        "# percentage of positive tweets\n",
        "round((ptweets.shape[0]/df.shape[0])*100, 2)"
      ],
      "execution_count": 24,
      "outputs": [
        {
          "output_type": "execute_result",
          "data": {
            "text/plain": [
              "80.0"
            ]
          },
          "metadata": {
            "tags": []
          },
          "execution_count": 24
        }
      ]
    },
    {
      "cell_type": "code",
      "metadata": {
        "id": "z9UncTHdJPaN",
        "colab_type": "code",
        "colab": {
          "base_uri": "https://localhost:8080/",
          "height": 34
        },
        "outputId": "ff0c10ac-0717-4610-fc80-fb0e18c0a5cb"
      },
      "source": [
        "# percentage of negative tweets\n",
        "ntweets = df[df['Analysis'] == 'Negative']\n",
        "round((ntweets.shape[0]/df.shape[0])*100, 2)"
      ],
      "execution_count": 25,
      "outputs": [
        {
          "output_type": "execute_result",
          "data": {
            "text/plain": [
              "10.0"
            ]
          },
          "metadata": {
            "tags": []
          },
          "execution_count": 25
        }
      ]
    },
    {
      "cell_type": "code",
      "metadata": {
        "id": "EcpXM0WSKCBm",
        "colab_type": "code",
        "colab": {
          "base_uri": "https://localhost:8080/",
          "height": 34
        },
        "outputId": "6419254c-882d-48ee-dc6a-247271e2cf58"
      },
      "source": [
        "# percentage of neutral tweets\n",
        "neut_tweets = df[df['Analysis'] == 'Neutral']\n",
        "round((neut_tweets.shape[0]/df.shape[0])*100, 2)"
      ],
      "execution_count": 30,
      "outputs": [
        {
          "output_type": "execute_result",
          "data": {
            "text/plain": [
              "10.0"
            ]
          },
          "metadata": {
            "tags": []
          },
          "execution_count": 30
        }
      ]
    },
    {
      "cell_type": "code",
      "metadata": {
        "id": "Wu5bnZLNJjwf",
        "colab_type": "code",
        "colab": {
          "base_uri": "https://localhost:8080/",
          "height": 391
        },
        "outputId": "3f84cf87-0229-4bc5-8bd4-4fedaa981b04"
      },
      "source": [
        "# show the value counts\n",
        "df['Analysis'].value_counts()\n",
        "plt.title('Sentiment Analysis')\n",
        "plt.xlabel('Sentiment')\n",
        "plt.ylabel('Counts')\n",
        "df['Analysis'].value_counts().plot(kind='bar')"
      ],
      "execution_count": 27,
      "outputs": [
        {
          "output_type": "execute_result",
          "data": {
            "text/plain": [
              "<matplotlib.axes._subplots.AxesSubplot at 0x7f6d0d2e6cc0>"
            ]
          },
          "metadata": {
            "tags": []
          },
          "execution_count": 27
        },
        {
          "output_type": "display_data",
          "data": {
            "image/png": "[encoded data removed]",
            "text/plain": [
              "<Figure size 432x288 with 1 Axes>"
            ]
          },
          "metadata": {
            "tags": []
          }
        }
      ]
    },
    {
      "cell_type": "code",
      "metadata": {
        "id": "xZex878iJr5S",
        "colab_type": "code",
        "colab": {}
      },
      "source": [
        ""
      ],
      "execution_count": 0,
      "outputs": []
    }
  ]
}